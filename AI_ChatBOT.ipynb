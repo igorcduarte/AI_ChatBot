{
  "nbformat": 4,
  "nbformat_minor": 0,
  "metadata": {
    "colab": {
      "provenance": [],
      "toc_visible": true,
      "authorship_tag": "ABX9TyOhwUSQ10YC7AkmAIkwO7oD",
      "include_colab_link": true
    },
    "kernelspec": {
      "name": "python3",
      "display_name": "Python 3"
    },
    "language_info": {
      "name": "python"
    }
  },
  "cells": [
    {
      "cell_type": "markdown",
      "metadata": {
        "id": "view-in-github",
        "colab_type": "text"
      },
      "source": [
        "<a href=\"https://colab.research.google.com/github/igorcduarte/AI_ChatBot/blob/main/AI_ChatBOT.ipynb\" target=\"_parent\"><img src=\"https://colab.research.google.com/assets/colab-badge.svg\" alt=\"Open In Colab\"/></a>"
      ]
    },
    {
      "cell_type": "code",
      "execution_count": null,
      "metadata": {
        "id": "bdVSi1YnuWeB"
      },
      "outputs": [],
      "source": [
        "!pip install langchain\n",
        "!pip install langchain-groq\n",
        "!pip install langchain-community\n",
        "!pip install youtube-transcript-api\n",
        "!pip install pypdf"
      ]
    },
    {
      "cell_type": "code",
      "source": [
        "api_key = '' # Cole sua chave API"
      ],
      "metadata": {
        "id": "ReRQLu7LuazH"
      },
      "execution_count": 22,
      "outputs": []
    },
    {
      "cell_type": "code",
      "source": [
        "import os\n",
        "from langchain_groq import ChatGroq\n",
        "from langchain.prompts import ChatPromptTemplate\n",
        "from langchain_community.document_loaders import WebBaseLoader\n",
        "from langchain_community.document_loaders import YoutubeLoader\n",
        "from langchain_community.document_loaders import PyPDFLoader\n",
        "\n",
        "os.environ['GROQ_API_KEY'] =  api_key\n",
        "chat = ChatGroq(model='llama-3.3-70b-versatile')\n",
        "\n",
        "nome_bot = '' # Dê um nome a seu bot\n",
        "\n",
        "def resposta_bot(mensagens, documento):\n",
        "  mensagens_system = '''Você é um assistente inteligente e formal chamado Cogni.\n",
        "  Você utiliza as seguintes informações para fomular as suas repostas: {informacoes}'''\n",
        "  mensagens_modelo = [('system', mensagens_system)]\n",
        "  mensagens_modelo += mensagens\n",
        "  template = ChatPromptTemplate.from_messages(mensagens_modelo)\n",
        "  chain = template | chat\n",
        "  return chain.invoke({'informacoes': documento}).content"
      ],
      "metadata": {
        "id": "88n6nrDEulhf"
      },
      "execution_count": 33,
      "outputs": []
    },
    {
      "cell_type": "code",
      "source": [
        "def carrega_site():\n",
        "  url_site = input('Cole a url do site: ')\n",
        "  loader = WebBaseLoader(url_site)\n",
        "  lista_documentos = loader.load()\n",
        "  documento = ''\n",
        "  for doc in lista_documentos:\n",
        "    documento = documento + doc.page_content\n",
        "  return documento\n",
        "\n",
        "def carrega_video():\n",
        "  url_video = input('Cole a url do video: ')\n",
        "  loader = YoutubeLoader.from_youtube_url(\n",
        "    url_video,\n",
        "    language=['pt']\n",
        "  )\n",
        "  lista_documentos = loader.load()\n",
        "  documento = ''\n",
        "  for doc in lista_documentos:\n",
        "    documento = documento + doc.page_content\n",
        "  return documento\n",
        "\n",
        "def carrega_pdf():\n",
        "  caminho = '' # Caminho do seu arquivo no Drive\n",
        "  loader = PyPDFLoader(caminho)\n",
        "  lista_documentos = loader.load()\n",
        "  documento = ''\n",
        "  for doc in lista_documentos:\n",
        "    documento = documento + doc.page_content\n",
        "  return documento"
      ],
      "metadata": {
        "id": "vljfPqB3uoEH"
      },
      "execution_count": 34,
      "outputs": []
    },
    {
      "cell_type": "code",
      "source": [
        "print(\"Bem vindo ao CogniAI\")\n",
        "\n",
        "texto_selecao = f'''\n",
        "Digite 1 se você quer conversar com o {nome_bot}\n",
        "Digite 2 se você quiser buscar em um site\n",
        "Digite 3 se você quiser transcrever um vídeo do Youtube\n",
        "Digite 4 se você quiser analisar/resumir um PDF'''\n",
        "\n",
        "documento = ''\n",
        "\n",
        "while True:\n",
        "  selecao = input(texto_selecao)\n",
        "  if selecao == '1':\n",
        "    print(f'Você escolheu conversar com o {nome_bot}')\n",
        "    break\n",
        "  elif selecao == '2':\n",
        "    documento = carrega_site()\n",
        "    break\n",
        "  elif selecao == '3':\n",
        "    docuemto = carrega_video()\n",
        "    break\n",
        "  elif selecao == '4':\n",
        "    documento = carrega_pdf()\n",
        "    break\n",
        "  else:\n",
        "    print('Opção inválida')\n",
        "\n",
        "mensagens = []\n",
        "while True:\n",
        "  pergunta = input('Usuario: ')\n",
        "  if pergunta.lower() == 'x':\n",
        "    break\n",
        "  mensagens.append(('user', pergunta))\n",
        "  resposta = resposta_bot(mensagens, documento)\n",
        "  mensagens.append(('assistant', resposta))\n",
        "  print(f'{nome_bot}: {resposta}')\n",
        "\n",
        "\n",
        "\n",
        "print(f'Muito obrigado por usar o {nome_bot}')"
      ],
      "metadata": {
        "collapsed": true,
        "id": "cSeKShxO2yRO"
      },
      "execution_count": null,
      "outputs": []
    }
  ]
}